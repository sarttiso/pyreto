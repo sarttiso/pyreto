{
 "cells": [
  {
   "cell_type": "markdown",
   "id": "ede20c32-d206-460e-bc16-ab122e9cb288",
   "metadata": {},
   "source": [
    "# pyreto guide"
   ]
  },
  {
   "cell_type": "markdown",
   "id": "4deea1b6-f4ba-461d-8954-fc264e360ddc",
   "metadata": {},
   "source": [
    "This notebook provides examples for utilizing `pyreto`."
   ]
  },
  {
   "cell_type": "code",
   "execution_count": 2,
   "id": "8a441ad3-a78e-4a18-a812-56aa4d06588b",
   "metadata": {},
   "outputs": [],
   "source": [
    "import numpy as np\n",
    "import matplotlib.pyplot as plt\n",
    "import pyreto"
   ]
  }
 ],
 "metadata": {
  "citation-manager": {
   "items": {}
  },
  "kernelspec": {
   "display_name": "Python 3 (ipykernel)",
   "language": "python",
   "name": "python3"
  },
  "language_info": {
   "codemirror_mode": {
    "name": "ipython",
    "version": 3
   },
   "file_extension": ".py",
   "mimetype": "text/x-python",
   "name": "python",
   "nbconvert_exporter": "python",
   "pygments_lexer": "ipython3",
   "version": "3.9.16"
  }
 },
 "nbformat": 4,
 "nbformat_minor": 5
}
